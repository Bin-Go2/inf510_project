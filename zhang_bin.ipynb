{
 "cells": [
  {
   "cell_type": "markdown",
   "metadata": {},
   "source": [
    "### INF 510 Fall 2019 Final Project Submission"
   ]
  },
  {
   "cell_type": "markdown",
   "metadata": {},
   "source": [
    "1.\t**The names of team member(s)**:\n",
    "\n",
    "    Bin Zhang\n",
    "   "
   ]
  },
  {
   "cell_type": "markdown",
   "metadata": {},
   "source": [
    "2.\t**How to run your code (what command-line switches they are, what happens when you invoke the code, etc.)**\n",
    "\n",
    "    This project requires the following packages:\n",
    "    - django、requests、beautifulsoup4、retry、selenium、lxml、tqdm\n",
    "    \n",
    "    To run this project, make sure the above packages are installed, and then simply clone the repo at https://github.com/SondersB/inf510_project/ and execute this notebook\n",
    "\n",
    "    There is a environment.yml in my project and you can use it to create a new virtual environment to run this project."
   ]
  },
  {
   "cell_type": "markdown",
   "metadata": {},
   "source": [
    "3.\t**Any major “gotchas” to the code (i.e. things that don’t work, go slowly, could be improved, etc.)**\n",
    "    \n",
    "    Before starting the jupyter notebook, it needs to navaigate this project at first, Otherwise the follwing command will not be run successfully.you need cd to the proper directory to use jupyter notebook command: <br>\n",
    "    For this project(for me): cd /Users/zhangbin/Desktop/inf510_project  \n",
    "    \n",
    "    The code nests the django project commands, so it needs to manully interupt the cell after start the web server. \n",
    "    "
   ]
  },
  {
   "cell_type": "markdown",
   "metadata": {},
   "source": [
    "4.  **Anything else you feel is relevant to the grading of your project your project.**\n",
    "\n",
    "    For some reason, if you go the webpages http://127.0.0.1:8000/all_flights/ and move the mouse to each province, it will display the name and the latitude of this province, however when you inspect the html and look at the Console, I did transfer all the data and I don't know why it just shows 2 records.<br>\n",
    "    \n",
    "   Another thing that I want to mention is that Django project needs to be started from command line so I nest command line in the jupyter notebook after I consulted professor. Howerver, for some reason I don't know, sometimes it works well but sometimes it can't perform well, so if it functions bad, please use the command line. <br>\n",
    "   \n",
    "   When it comes to the scarping part, when I upload my project to Github, it detect the Google API key and ask me to delete it, so if you want to run code in this part, please add it before in the City_scrape class in the file city_scrape.py.\n",
    "   \n",
    "   Last thing is that I consulted professor whether my project paths behave like this way(because there are some folders and configuration files in my Diango project), he said it's fine and let me to explain it in this notebook. Thank you very much.\n",
    "   \n",
    "   "
   ]
  },
  {
   "cell_type": "markdown",
   "metadata": {},
   "source": [
    "5. **What did you set out to study?  (i.e. what was the point of your project?  This should be close to your Milestone 1 assignment, but if you switched gears or changed things, note it here.)**\n",
    "\n",
    "   My aims is to anlayze the relationship among city's GDP and population and its flight number. And if possible, I will acheive a ticket booking system to achieve a user login/sign up、ticket booking、ticket refunding modules to collect user's purchasing information and dive into the relationship among each of these varibles. Whereas I just accompished the login/sign up module.\n"
   ]
  },
  {
   "cell_type": "markdown",
   "metadata": {},
   "source": [
    "6. **What did you Discover/what were your conclusions (i.e. what were your findings?  Were your original assumptions confirmed, etc.?)**\n",
    "\n",
    "   When you look at the http://127.0.0.1:8000/statistic/, the correlation calculation shows<br>\n",
    "   (1) GDP rank has a strong negative relationship with flight numbers --- larger GPD , less flight numbers<br>\n",
    "   (2) GDP rank has a mild negative relationship with population --- large GPD , less population<br>\n",
    "   (3) Population has a medium positive relationship with flight numbers ---- more people, more flights (which I think it's reasonable)\n",
    "   \n",
    "   My original thought is that more pepole will result in more fight numbers and GDP ranking while the number shows only more poeple leads to more flights and the relationship between GDP and flights, the relationship between GDP and population are negative correalation."
   ]
  },
  {
   "cell_type": "markdown",
   "metadata": {},
   "source": [
    "7. **What difficulties did you have in completing the project?**  \n",
    "    From the project, I realize that the most diffcult part is scraping ---- collecting data. I nearly spent a whole week to fulfill the scraping part beacuse all the filght websites have a strong anti-scarping strategy. I can't use requests library to access these information directly. And during this period, I stimulated the cookie, header, analyzed js. But finally I decided to use selenium to atumoated scrape the information like users. It sepnd a lot of time waiting for the searching and stroing. <br>\n",
    "    And when it comes to the visualization and analysis part,the problem for is how to display the result. And I heard Django was a good framework to illustrate information as htmls. So I learned it and find it's pretty easy to build a lightweight website via Django. But there are still troubles when I use it. The first thing is displaying. What I know is just simple html、css languages. They can't display so well. So I searched the Internet and used a framework called bootstrap to help me. Another thing is front-end interaction, even though I can use SQL to get the information I want, I don't know how to transfer it to the front end. After several trials, I know how to use 'context' (a django term) to transfer my data and changing its encoing foramt to make it compatible. "
   ]
  },
  {
   "cell_type": "markdown",
   "metadata": {},
   "source": [
    "8. **What skills did you wish you had while you were doing the project?**\n",
    "   * Significant improvement in crawler skills (selenium、beautifulsoup、requests、xpath)\n",
    "   * Become more proficient in database language operations\n",
    "   * Know how to use Django to build a website"
   ]
  },
  {
   "cell_type": "markdown",
   "metadata": {},
   "source": [
    "9. **What would you do “next” to expand or augment the project?**\n",
    "\n",
    "    Actually, I don't have much time to make my project more colorful. So I don't achieve the tickt booking system. Maybe after that I will fulfill the booking module and refunding module to enhance the user interation rather than just showing the results. Besides, in this project, the UI is not so good and I didn't make it flexible, so it will display well in the Mac 15-inch screen. But in other screen, because of the size design, it will not be compative and display bad. After that I will make it more flexible. Another thing is the database design, here I don't consider it too much and for the sake of reduing searching time, I used some spacing redundancy. After that I can redegin it and make it more effective."
   ]
  },
  {
   "cell_type": "markdown",
   "metadata": {},
   "source": [
    "###  First please make sure the current directory is this project directory(ended with inf510_project)"
   ]
  },
  {
   "cell_type": "code",
   "execution_count": 1,
   "metadata": {},
   "outputs": [
    {
     "data": {
      "text/plain": [
       "'/Users/zhangbin/Desktop/inf510_project'"
      ]
     },
     "execution_count": 1,
     "metadata": {},
     "output_type": "execute_result"
    }
   ],
   "source": [
    "pwd    "
   ]
  },
  {
   "cell_type": "markdown",
   "metadata": {},
   "source": [
    "### We navigate to the Django project to make sure current directory has the file manage.py "
   ]
  },
  {
   "cell_type": "code",
   "execution_count": 2,
   "metadata": {},
   "outputs": [
    {
     "name": "stdout",
     "output_type": "stream",
     "text": [
      "/Users/zhangbin/Desktop/inf510_project/src/FlightInfo\n"
     ]
    }
   ],
   "source": [
    "cd src/FlightInfo"
   ]
  },
  {
   "cell_type": "markdown",
   "metadata": {},
   "source": [
    "### After that the working directory will be xx/xx/inf510_project/src/FlightInfo"
   ]
  },
  {
   "cell_type": "code",
   "execution_count": 3,
   "metadata": {},
   "outputs": [
    {
     "data": {
      "text/plain": [
       "'/Users/zhangbin/Desktop/inf510_project/src/FlightInfo'"
      ]
     },
     "execution_count": 3,
     "metadata": {},
     "output_type": "execute_result"
    }
   ],
   "source": [
    "pwd "
   ]
  },
  {
   "cell_type": "markdown",
   "metadata": {},
   "source": [
    "### Make sure you have downloaded the django library otherwise it will throw an exception :ImportError: Couldn't import Django  --> use pip install django  to resolve the problem"
   ]
  },
  {
   "cell_type": "code",
   "execution_count": 1,
   "metadata": {},
   "outputs": [],
   "source": [
    "# start the web server"
   ]
  },
  {
   "cell_type": "code",
   "execution_count": 5,
   "metadata": {},
   "outputs": [
    {
     "name": "stdout",
     "output_type": "stream",
     "text": [
      "Watching for file changes with StatReloader\n",
      "Performing system checks...\n",
      "\n",
      "System check identified no issues (0 silenced).\n",
      "December 13, 2019 - 01:29:23\n",
      "Django version 3.0, using settings 'FlightInfo.settings'\n",
      "Starting development server at http://127.0.0.1:8000/\n",
      "Quit the server with CONTROL-C.\n",
      "[13/Dec/2019 01:29:26] \u001b[m\"GET / HTTP/1.1\" 200 9296\u001b[0m\n",
      "[13/Dec/2019 01:29:44] \u001b[m\"GET /index/ HTTP/1.1\" 200 12723\u001b[0m\n",
      "[13/Dec/2019 01:29:45] \u001b[m\"GET /all_flights/ HTTP/1.1\" 200 13161\u001b[0m\n",
      "-0.7960072895244198 -0.38856283029592414 0.3490531417751242\n",
      "[13/Dec/2019 01:29:46] \u001b[m\"GET /analysis/ HTTP/1.1\" 200 8342\u001b[0m\n",
      "[13/Dec/2019 01:29:47] \u001b[m\"GET /statistic/ HTTP/1.1\" 200 4810\u001b[0m\n",
      "[13/Dec/2019 01:29:47] \u001b[m\"GET /static/img/heatmatrix.png HTTP/1.1\" 200 24294\u001b[0m\n",
      "[13/Dec/2019 01:29:47] \u001b[m\"GET /static/img/coefficient.png HTTP/1.1\" 200 46090\u001b[0m\n",
      "[13/Dec/2019 01:29:51] \u001b[m\"GET / HTTP/1.1\" 200 9296\u001b[0m\n",
      "[13/Dec/2019 01:32:55] \u001b[m\"GET /all_flights/ HTTP/1.1\" 200 13161\u001b[0m\n",
      "-0.7960072895244198 -0.38856283029592414 0.3490531417751242\n",
      "[13/Dec/2019 01:32:55] \u001b[m\"GET /analysis/ HTTP/1.1\" 200 8342\u001b[0m\n",
      "[13/Dec/2019 01:33:04] \u001b[m\"GET /all_flights/ HTTP/1.1\" 200 13161\u001b[0m\n",
      "^C\n"
     ]
    }
   ],
   "source": [
    "!python manage.py runserver "
   ]
  },
  {
   "cell_type": "markdown",
   "metadata": {},
   "source": [
    "#### if there is always an asterisk  sign in the '!python manage.py runserver' cell , please go to the command line to check the effect. The step is :\n",
    "\n",
    "  1. go to the Django project path:  `/inf510_project/src/FlightInfo`  \n",
    "  2. use command line :               `python manage.py runserver`\n"
   ]
  },
  {
   "cell_type": "markdown",
   "metadata": {},
   "source": [
    "#### Please manually interrupt the cell above to close the web server."
   ]
  },
  {
   "cell_type": "markdown",
   "metadata": {},
   "source": [
    "Here are the urls you can use(or you can click the buttons in the website )<br>\n",
    "http://127.0.0.1:8000/ <br>\n",
    "http://127.0.0.1:8000/index/<br>\n",
    "http://127.0.0.1:8000/all_flights/<br>\n",
    "http://127.0.0.1:8000/analysis/<br>\n",
    "http://127.0.0.1:8000/statistic/<br>\n",
    "http://127.0.0.1:8000/login/<br>\n",
    "http://127.0.0.1:8000/register/<br>"
   ]
  }
 ],
 "metadata": {
  "kernelspec": {
   "display_name": "Python 3",
   "language": "python",
   "name": "python3"
  },
  "language_info": {
   "codemirror_mode": {
    "name": "ipython",
    "version": 3
   },
   "file_extension": ".py",
   "mimetype": "text/x-python",
   "name": "python",
   "nbconvert_exporter": "python",
   "pygments_lexer": "ipython3",
   "version": "3.7.3"
  }
 },
 "nbformat": 4,
 "nbformat_minor": 2
}
